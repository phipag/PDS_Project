{
 "cells": [
  {
   "cell_type": "code",
   "execution_count": null,
   "metadata": {},
   "outputs": [],
   "source": [
    "!pip install -e .."
   ]
  },
  {
   "cell_type": "code",
   "execution_count": null,
   "metadata": {},
   "outputs": [],
   "source": [
    "from nextbike import preprocessing\n",
    "import pandas as pd\n",
    "import geopandas as gpd\n",
    "from matplotlib import pyplot as plt\n",
    "import contextily as ctx\n",
    "import numpy as np\n",
    "%matplotlib inline"
   ]
  },
  {
   "cell_type": "code",
   "execution_count": null,
   "metadata": {},
   "outputs": [],
   "source": [
    "# The dataset contains many duplicates\n",
    "df = preprocessing.load_df().drop_duplicates()"
   ]
  },
  {
   "cell_type": "code",
   "execution_count": null,
   "metadata": {},
   "outputs": [],
   "source": [
    "df.head(15)"
   ]
  },
  {
   "cell_type": "code",
   "execution_count": null,
   "metadata": {
    "scrolled": false
   },
   "outputs": [],
   "source": [
    "df.info(null_counts=True)"
   ]
  },
  {
   "cell_type": "code",
   "execution_count": null,
   "metadata": {
    "scrolled": true
   },
   "outputs": [],
   "source": [
    "df[df.isna().any(axis=1)]"
   ]
  },
  {
   "cell_type": "code",
   "execution_count": null,
   "metadata": {},
   "outputs": [],
   "source": [
    "# p_number is 0 for free-floating or unregistered stations and likely by mistake NaN\n",
    "df.fillna(0, inplace=True)"
   ]
  },
  {
   "cell_type": "code",
   "execution_count": null,
   "metadata": {},
   "outputs": [],
   "source": [
    "for col in ['p_spot', 'p_number', 'p_place_type', 'trip', 'b_bike_type', 'p_bike']:\n",
    "    print(df[col].value_counts())\n",
    "    print('---------------------------------')"
   ]
  },
  {
   "cell_type": "code",
   "execution_count": null,
   "metadata": {},
   "outputs": [],
   "source": [
    "# p_bike is always True if p_place_type is 12\n",
    "df[df['p_place_type'] == 12]\n",
    "df[(df['p_bike'] == True) & (df['p_place_type'] == 12)]"
   ]
  },
  {
   "cell_type": "code",
   "execution_count": null,
   "metadata": {
    "scrolled": false
   },
   "outputs": [],
   "source": [
    "# p_bike is always True if p_spot is False\n",
    "df[(df['p_bike'] == True) & (df['p_spot'] == False)]"
   ]
  },
  {
   "cell_type": "code",
   "execution_count": null,
   "metadata": {},
   "outputs": [],
   "source": [
    "# But p_bike can also be False if p_spot is False\n",
    "# --> What does p_bike mean in this case?\n",
    "df[(df['p_bike'] == False) & (df['p_spot'] == False)]"
   ]
  },
  {
   "cell_type": "code",
   "execution_count": null,
   "metadata": {},
   "outputs": [],
   "source": [
    "# Neither p_number nor p_uid is a unique identifier for p_name\n",
    "print(len(df['p_number'].drop_duplicates()))\n",
    "print(len(df['p_uid'].drop_duplicates()))\n",
    "print(len(df['p_name'].drop_duplicates()))"
   ]
  },
  {
   "cell_type": "markdown",
   "metadata": {},
   "source": [
    "* **The data set shows columns with prefixes p and b. What do you think do they represent? Also try to find good assumptions for the meanings of the columns**\n",
    "    * `p_`: Place related information\n",
    "    * `b_`: Bike related information\n",
    "    * `p_spot`: True if the place is a known station, False if free-floating\n",
    "    * `p_place_type`: 0 if the place is a known station, 12 if free-floating\n",
    "    * `datetime`: Date of the booking\n",
    "    * `b_number`: Unique identifier for a bike\n",
    "    * `trip`:\n",
    "        * 'first': Indicates the first booking of a day for a bike\n",
    "        * 'last': Indicates the last booking of a day for a bike\n",
    "        * 'start': Indicates the start of a trip\n",
    "        * 'end': Inidicates the end of a trip\n",
    "    * `p_uid`: ID of the location\n",
    "    * `p_bikes`: Available bikes at the place\n",
    "    * `p_lat`: Latitude of the location\n",
    "    * `b_bike_type`: Type of the bike (the meaning is not clear, probably different bike versions)\n",
    "    * `p_name`: Name of the location\n",
    "    * `p_number`: ???\n",
    "    * `p_lng`: Longitude of the location\n",
    "    * `p_bike`: True if free-floating, False if known station"
   ]
  },
  {
   "cell_type": "markdown",
   "metadata": {},
   "source": [
    "* **The trip column in your data set shows different values. Explain why there are not only two. Are examples with certain values for trip more informative for the analysis of mobility patterns than others?**\n",
    "    * The start/end trips are more informative in order to calculate the duration of a trip and to obtain the target data format"
   ]
  },
  {
   "cell_type": "code",
   "execution_count": null,
   "metadata": {
    "scrolled": false
   },
   "outputs": [],
   "source": [
    "# The official nextbike stations in mannheim\n",
    "# -> https://mannheim.opendatasoft.com/explore/dataset/free_bike_status/information/\n",
    "stations = pd.read_csv('https://mannheim.opendatasoft.com/explore/dataset/free_bike_status/download/?format=csv&timezone=Europe/Berlin&lang=de&use_labels_for_header=true&csv_separator=%3B', delimiter=';')"
   ]
  },
  {
   "cell_type": "code",
   "execution_count": null,
   "metadata": {},
   "outputs": [],
   "source": [
    "# Create a set of distinct bike_numbers which are currently used in Mannheim\n",
    "# Problem: There might be old bikes in the bookings which are not used anymore\n",
    "bike_numbers = set()\n",
    "for number_list in stations['Fahrradnummern']:\n",
    "    if isinstance(number_list, str):\n",
    "        for num in number_list.split(','):\n",
    "            bike_numbers.add(num)"
   ]
  },
  {
   "cell_type": "code",
   "execution_count": null,
   "metadata": {
    "scrolled": false
   },
   "outputs": [],
   "source": [
    "# Filtering like this might not be 100% consitent because free-floating bookings with bikes that are not in\n",
    "# bike_numbers are not captured.\n",
    "mannheim_df = df[(df['p_uid'].isin(stations['uid'])) | (df['b_number'].isin(bike_numbers))].reset_index()\n",
    "mannheim_df"
   ]
  },
  {
   "cell_type": "code",
   "execution_count": null,
   "metadata": {},
   "outputs": [],
   "source": [
    "# Same problem as before: start and end trip number does not match\n",
    "mannheim_df['trip'].value_counts()"
   ]
  },
  {
   "cell_type": "markdown",
   "metadata": {},
   "source": [
    "**Filtering with the bike_numbers and stations does not work properly. It might be better to filter via the GeoJson boundary.**"
   ]
  },
  {
   "cell_type": "code",
   "execution_count": null,
   "metadata": {
    "scrolled": false
   },
   "outputs": [],
   "source": [
    "# Load the boundary of Mannheim as GeoJson shape and plot the real stations vs the filtered trip locations\n",
    "mannheim_boundary_gdf = gpd.read_file('../data/input/mannheim_boundary.geojson', crs='EPSG:4326')\n",
    "stations_gdf = gpd.GeoDataFrame(geometry=gpd.points_from_xy(stations['lng'], stations['lat']), crs='EPSG:4326')\n",
    "mannheim_gdf = gpd.GeoDataFrame(geometry=gpd.points_from_xy(mannheim_df['p_lng'], mannheim_df['p_lat']), crs='EPSG:4326')\n",
    "\n",
    "fig, ax = plt.subplots(nrows=1, ncols=1, figsize=(16, 16), dpi=300)\n",
    "\n",
    "mannheim_boundary_gdf.plot(ax=ax, alpha=.6, edgecolor='blue')\n",
    "mannheim_gdf.plot(ax=ax, label='Filtered trip locations', marker='x', c='red')\n",
    "stations_gdf.plot(ax=ax, label='Real stations', c='midnightblue')\n",
    "ctx.add_basemap(ax=ax, crs='EPSG:4326')\n",
    "\n",
    "ax.set_title('Mannheim: Real stations vs. filtered trip locations')\n",
    "ax.legend()\n",
    "plt.show()"
   ]
  },
  {
   "cell_type": "code",
   "execution_count": null,
   "metadata": {},
   "outputs": [],
   "source": [
    "# All trips have to be within the Polygon of Mannheim\n",
    "mannheim_boundary_polygon = mannheim_boundary_gdf['geometry'][0]\n",
    "mannheim_boundary_polygon"
   ]
  },
  {
   "cell_type": "code",
   "execution_count": null,
   "metadata": {},
   "outputs": [],
   "source": [
    "# Create a GeoDataFrame from the original df\n",
    "gdf = gpd.GeoDataFrame(df, geometry=gpd.points_from_xy(df['p_lng'], df['p_lat']), crs='EPSG:4326')\n",
    "# Filter it by the entries which are within the Polygon above\n",
    "trips_within_mannheim_gdf = gdf[gdf.within(mannheim_boundary_polygon)]\n",
    "trips_within_mannheim_gdf"
   ]
  },
  {
   "cell_type": "code",
   "execution_count": null,
   "metadata": {},
   "outputs": [],
   "source": [
    "# Now all trips are really within Mannheim\n",
    "# But: The mismatch between start and end trips is still present\n",
    "#      because this data set might contain trips which cross the border of Mannheim\n",
    "fig, ax = plt.subplots(nrows=1, ncols=1, figsize=(4, 4), dpi=300)\n",
    "\n",
    "mannheim_boundary_gdf.plot(ax=ax, alpha=.6, edgecolor='blue')\n",
    "trips_within_mannheim_gdf.plot(ax=ax, label='Trips in Mannheim', c='red', marker='x')\n",
    "ctx.add_basemap(ax=ax, crs='EPSG:4326')\n",
    "\n",
    "ax.set_title('Mannheim: Trips within the city')\n",
    "ax.legend()\n",
    "plt.show()"
   ]
  },
  {
   "cell_type": "code",
   "execution_count": null,
   "metadata": {},
   "outputs": [],
   "source": [
    "# As expected, there is still a mismatch between start and end trips\n",
    "trips_within_mannheim_gdf['trip'].value_counts()"
   ]
  },
  {
   "cell_type": "markdown",
   "metadata": {},
   "source": [
    "**Clean the data set**"
   ]
  },
  {
   "cell_type": "code",
   "execution_count": null,
   "metadata": {},
   "outputs": [],
   "source": [
    "# Trips of type 'first' or 'last' are not relevant, so remove them\n",
    "trips_within_mannheim_gdf = trips_within_mannheim_gdf[(trips_within_mannheim_gdf['trip'] != 'first') & (trips_within_mannheim_gdf['trip'] != 'last')].reset_index(drop=True)\n",
    "trips_within_mannheim_gdf"
   ]
  },
  {
   "cell_type": "code",
   "execution_count": null,
   "metadata": {
    "scrolled": true
   },
   "outputs": [],
   "source": [
    "# Define a sliding window O(N) algorithm which cleasn the data set by the following scheme:\n",
    "# if two consecutive rows have the same trip type:\n",
    "#   if the trip type is 'start':\n",
    "#     delete the first row of the two rows (because the end trip for the observed start trip is missing)\n",
    "#   else:\n",
    "#     delete the second row (because the start trip for the observed end trip is missing)\n",
    "def fix(df):\n",
    "    # Use numpy to execute the code in the Cython space\n",
    "    trips = np.array(df['trip'])\n",
    "    # Use a hash set for distinct O(1) insertion operations\n",
    "    delete_indices = set()\n",
    "    # Iterate until the second last index because the sliding window is constructed by the interval [i, i + 1]\n",
    "    for i in range(len(trips) - 1):\n",
    "        if trips[i] == trips[i + 1]:\n",
    "            i_delete = i if trips[i] == 'start' else i + 1\n",
    "            delete_indices.add(i_delete)\n",
    "    # Call pandas' internal drop method once to hand over the execution to Cython again\n",
    "    return df.drop(delete_indices, axis=0)\n",
    "    \n",
    "new = fix(trips_within_mannheim_gdf)"
   ]
  },
  {
   "cell_type": "code",
   "execution_count": null,
   "metadata": {},
   "outputs": [],
   "source": [
    "# Now each start trip has a corresponding end trip\n",
    "new['trip'].value_counts()"
   ]
  },
  {
   "cell_type": "code",
   "execution_count": null,
   "metadata": {},
   "outputs": [],
   "source": [
    "# This is the number of rows removed\n",
    "len(trips_within_mannheim_gdf) - len(new)"
   ]
  },
  {
   "cell_type": "code",
   "execution_count": null,
   "metadata": {},
   "outputs": [],
   "source": [
    "# The new data looks good now!\n",
    "sample_size = 20\n",
    "random_start = np.random.randint(sample_size, len(new) - sample_size)\n",
    "new[random_start:random_start + sample_size]"
   ]
  },
  {
   "cell_type": "code",
   "execution_count": null,
   "metadata": {},
   "outputs": [],
   "source": []
  }
 ],
 "metadata": {
  "kernelspec": {
   "display_name": "Python 3",
   "language": "python",
   "name": "python3"
  },
  "language_info": {
   "codemirror_mode": {
    "name": "ipython",
    "version": 3
   },
   "file_extension": ".py",
   "mimetype": "text/x-python",
   "name": "python",
   "nbconvert_exporter": "python",
   "pygments_lexer": "ipython3",
   "version": "3.7.7"
  },
  "toc": {
   "base_numbering": 1,
   "nav_menu": {},
   "number_sections": true,
   "sideBar": true,
   "skip_h1_title": false,
   "title_cell": "Table of Contents",
   "title_sidebar": "Contents",
   "toc_cell": false,
   "toc_position": {},
   "toc_section_display": true,
   "toc_window_display": false
  }
 },
 "nbformat": 4,
 "nbformat_minor": 4
}
