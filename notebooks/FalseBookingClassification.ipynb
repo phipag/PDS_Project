{
 "cells": [
  {
   "cell_type": "code",
   "execution_count": 1,
   "metadata": {},
   "outputs": [],
   "source": [
    "from sklearn.model_selection import train_test_split\n",
    "import sklearn.metrics"
   ]
  },
  {
   "cell_type": "code",
   "execution_count": 3,
   "metadata": {
    "scrolled": true
   },
   "outputs": [
    {
     "name": "stderr",
     "output_type": "stream",
     "text": [
      "/mnt/Sharedrive/Development/University/SS20/PDS_Project/venv/lib/python3.6/site-packages/sklearn/externals/joblib/__init__.py:15: FutureWarning: sklearn.externals.joblib is deprecated in 0.21 and will be removed in 0.23. Please import this functionality directly from joblib, which can be installed with: pip install joblib. If this warning is raised when loading pickled models, you may need to re-serialize those models with scikit-learn 0.21+.\n",
      "  warnings.warn(msg, category=FutureWarning)\n",
      "/mnt/Sharedrive/Development/University/SS20/PDS_Project/venv/lib/python3.6/site-packages/numpy/lib/arraysetops.py:569: FutureWarning: elementwise comparison failed; returning scalar instead, but in the future will perform elementwise comparison\n",
      "  mask |= (ar1 == a)\n"
     ]
    },
    {
     "name": "stdout",
     "output_type": "stream",
     "text": [
      "Transformation was successful. Conducting feature engineering now.\n",
      "Preparation was sccessful, scaler was saved on disk.\n"
     ]
    }
   ],
   "source": [
    "from nextbike.models import DurationModel\n",
    "import matplotlib.pyplot as plt\n",
    "import pandas as pd\n",
    "\n",
    "model = DurationModel()\n",
    "\n",
    "model.load_from_csv()"
   ]
  },
  {
   "cell_type": "code",
   "execution_count": 4,
   "metadata": {},
   "outputs": [],
   "source": [
    "self = model.prepared_data"
   ]
  },
  {
   "cell_type": "code",
   "execution_count": 5,
   "metadata": {},
   "outputs": [],
   "source": [
    "X = self.drop(columns=['false_booking', 'duration'])\n",
    "y = self['false_booking']"
   ]
  },
  {
   "cell_type": "code",
   "execution_count": 6,
   "metadata": {},
   "outputs": [
    {
     "data": {
      "text/plain": [
       "Index(['weekend', 'is_station', 'HOUR_SIN', 'HOUR_COS', 'WEEK_OF_YEAR_SIN',\n",
       "       'WEEK_OF_YEAR_COS', 'DAY_OF_WEEK_SIN', 'DAY_OF_WEEK_COS', 'SPRING',\n",
       "       'SUMMER', 'WINTER', '(inoff) Bohnenbergerstraße 17',\n",
       "       'A5 - Universität West', 'DHBW Mannheim - Campus Coblitzallee',\n",
       "       'DHBW Mannheim - Campus Käfertalerstr.', 'E1 - Paradeplatz',\n",
       "       'E4 - Rathaus', 'Franklin', 'G7 - Westliche Unterstadt',\n",
       "       'Gewerkschaftshaus', 'Hauptbahnhof Mannheim', 'Hochschule Mannheim',\n",
       "       'Jungbusch - Jungbuschstraße', 'Jungbusch - Popakademie',\n",
       "       'K1 - Kurpfalzbrücke', 'Kongresszentrum Rosengarten', 'Kunsthalle',\n",
       "       'L1 - Schloss', 'Lindenhof - Johanniskirche',\n",
       "       'Lindenhof - Jugendherberge', 'Lindenhof - Lindenhofplatz',\n",
       "       'MVV Hochhaus', 'Mannheim Oststadt Karl-Ludwig-Straße',\n",
       "       'Mannheimer Straße', 'N5 - Kapuzinerplanken ', 'Nationaltheater',\n",
       "       'Neckarau - Hans-Sachs-Ring', 'Neckarau - Markuskirche',\n",
       "       'Neckarstadt - Alter Messplatz',\n",
       "       'Neckarstadt-Ost  - Carl-Zuckmayer-Straße',\n",
       "       'Neckarstadt-Ost - Lange Rötterstraße',\n",
       "       'Neckarstadt-West - Riedfeldstraße', 'Neumarkt',\n",
       "       'Oststadt - Luisenpark', 'Oststadt Karl-Ludwig-Straße',\n",
       "       'P7 - Fressgasse', 'R1 - Marktplatz',\n",
       "       'Schwetzingerstadt - Dynamostraße',\n",
       "       'Schwetzingerstadt - Pestalozzischule',\n",
       "       'Schwetzingerstadt - rnv Betriebshof Möhlstraße',\n",
       "       'Studentensiedlung Ludwig Frank', 'Technoseum', 'Theresienkrankenhaus',\n",
       "       'Traitteurstraße', 'Universität Mensa', 'Universität Schloss',\n",
       "       'Universitätsklinik Mannheim - CampusRad', 'VRNnextbike Eventstation',\n",
       "       'Willy-Brandt-Platz 68161 Mannheim'],\n",
       "      dtype='object')"
      ]
     },
     "execution_count": 6,
     "metadata": {},
     "output_type": "execute_result"
    }
   ],
   "source": [
    "X.columns"
   ]
  },
  {
   "cell_type": "code",
   "execution_count": 7,
   "metadata": {},
   "outputs": [],
   "source": [
    "X_train, X_test, y_train, y_test = train_test_split(X, y, random_state=0)"
   ]
  },
  {
   "cell_type": "code",
   "execution_count": 2,
   "metadata": {},
   "outputs": [],
   "source": [
    "from sklearn.ensemble import RandomForestClassifier"
   ]
  },
  {
   "cell_type": "code",
   "execution_count": 15,
   "metadata": {},
   "outputs": [],
   "source": [
    "from sklearn.preprocessing import StandardScaler\n",
    "scaler = StandardScaler()\n",
    "scaler = scaler.fit(X_train)\n",
    "X_train = scaler.transform(X_train)\n",
    "X_test = scaler.transform(X_test)"
   ]
  },
  {
   "cell_type": "code",
   "execution_count": 16,
   "metadata": {},
   "outputs": [],
   "source": [
    "svc = RandomForestClassifier(n_jobs=-1)"
   ]
  },
  {
   "cell_type": "code",
   "execution_count": 17,
   "metadata": {},
   "outputs": [
    {
     "data": {
      "text/plain": [
       "RandomForestClassifier(bootstrap=True, ccp_alpha=0.0, class_weight=None,\n",
       "                       criterion='gini', max_depth=None, max_features='auto',\n",
       "                       max_leaf_nodes=None, max_samples=None,\n",
       "                       min_impurity_decrease=0.0, min_impurity_split=None,\n",
       "                       min_samples_leaf=1, min_samples_split=2,\n",
       "                       min_weight_fraction_leaf=0.0, n_estimators=100,\n",
       "                       n_jobs=-1, oob_score=False, random_state=None, verbose=0,\n",
       "                       warm_start=False)"
      ]
     },
     "execution_count": 17,
     "metadata": {},
     "output_type": "execute_result"
    }
   ],
   "source": [
    "svc.fit(X_train, y_train.ravel())"
   ]
  },
  {
   "cell_type": "code",
   "execution_count": 18,
   "metadata": {},
   "outputs": [],
   "source": [
    "y_pred = svc.predict(X_test)"
   ]
  },
  {
   "cell_type": "code",
   "execution_count": 45,
   "metadata": {
    "scrolled": true
   },
   "outputs": [
    {
     "name": "stdout",
     "output_type": "stream",
     "text": [
      "0.8528476934971222\n"
     ]
    }
   ],
   "source": [
    "print(sklearn.metrics.accuracy_score(y_true=y_test, y_pred=y_pred))"
   ]
  },
  {
   "cell_type": "code",
   "execution_count": 29,
   "metadata": {},
   "outputs": [],
   "source": [
    "import numpy as np"
   ]
  },
  {
   "cell_type": "code",
   "execution_count": 42,
   "metadata": {},
   "outputs": [
    {
     "data": {
      "text/plain": [
       "array([[-0.52865567,  0.27426956, -0.15648752, ..., -0.03322111,\n",
       "        -0.01166328,  0.        ],\n",
       "       [-0.52865567,  0.27426956, -0.50134157, ..., -0.03322111,\n",
       "        -0.01166328,  0.        ],\n",
       "       [-0.52865567,  0.27426956,  1.45187813, ..., -0.03322111,\n",
       "        -0.01166328,  0.        ],\n",
       "       ...,\n",
       "       [-0.52865567,  0.27426956,  0.21358646, ..., -0.03322111,\n",
       "        -0.01166328,  1.        ],\n",
       "       [ 1.8915904 ,  0.27426956,  1.59472136, ..., -0.03322111,\n",
       "        -0.01166328,  0.        ],\n",
       "       [-0.52865567,  0.27426956, -0.15648752, ..., -0.03322111,\n",
       "        -0.01166328,  0.        ]])"
      ]
     },
     "execution_count": 42,
     "metadata": {},
     "output_type": "execute_result"
    }
   ],
   "source": [
    "np.concatenate((X_test, np.vstack(y_pred)), axis=1)"
   ]
  },
  {
   "cell_type": "code",
   "execution_count": 44,
   "metadata": {},
   "outputs": [
    {
     "data": {
      "text/plain": [
       "array([[1, 1],\n",
       "       [3, 3],\n",
       "       [5, 5]])"
      ]
     },
     "execution_count": 44,
     "metadata": {},
     "output_type": "execute_result"
    }
   ],
   "source": [
    "np.concatenate((np.vstack(np.array([1,3,5])),np.vstack(np.array([1,3,5]))), axis=1)"
   ]
  }
 ],
 "metadata": {
  "kernelspec": {
   "display_name": "Python 3",
   "language": "python",
   "name": "python3"
  },
  "language_info": {
   "codemirror_mode": {
    "name": "ipython",
    "version": 3
   },
   "file_extension": ".py",
   "mimetype": "text/x-python",
   "name": "python",
   "nbconvert_exporter": "python",
   "pygments_lexer": "ipython3",
   "version": "3.6.9"
  }
 },
 "nbformat": 4,
 "nbformat_minor": 1
}
