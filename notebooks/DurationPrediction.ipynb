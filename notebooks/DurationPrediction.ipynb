{
 "cells": [
  {
   "cell_type": "code",
   "execution_count": null,
   "metadata": {
    "scrolled": false
   },
   "outputs": [],
   "source": [
    "import pandas as pd \n",
    "from sklearn.linear_model import RidgeCV, LinearRegression, Ridge, Lasso, LassoLarsCV\n",
    "from sklearn.preprocessing import PolynomialFeatures\n",
    "from sklearn.model_selection import train_test_split\n",
    "from sklearn.ensemble import RandomForestRegressor\n",
    "from sklearn.preprocessing import RobustScaler, StandardScaler\n",
    "from sklearn.pipeline import Pipeline\n",
    "import numpy as np\n",
    "import seaborn as sns\n",
    "import matplotlib.pyplot as plt \n",
    "from sklearn.metrics import mean_absolute_error"
   ]
  },
  {
   "cell_type": "code",
   "execution_count": null,
   "metadata": {},
   "outputs": [],
   "source": [
    "raw_data = pd.read_csv('../data/output/mannheim_transformed.csv')"
   ]
  },
  {
   "cell_type": "code",
   "execution_count": null,
   "metadata": {},
   "outputs": [],
   "source": [
    "raw_data.info()"
   ]
  },
  {
   "cell_type": "code",
   "execution_count": null,
   "metadata": {},
   "outputs": [],
   "source": [
    "col_to_drop = ['bike_number','start_position','end_time','end_position','end_position_name']\n",
    "prediction_data = raw_data.drop(columns=col_to_drop)"
   ]
  },
  {
   "cell_type": "code",
   "execution_count": null,
   "metadata": {
    "scrolled": true
   },
   "outputs": [],
   "source": [
    "prediction_data"
   ]
  },
  {
   "cell_type": "code",
   "execution_count": null,
   "metadata": {},
   "outputs": [],
   "source": [
    "prediction_data['start_time'] = pd.to_datetime(prediction_data.start_time)"
   ]
  },
  {
   "cell_type": "code",
   "execution_count": null,
   "metadata": {},
   "outputs": [],
   "source": [
    "#from scipy import stats\n",
    "#z = np.abs(stats.zscore(prediction_data['duration']))\n",
    "#prediction_data = prediction_data[(z < 3)]"
   ]
  },
  {
   "cell_type": "code",
   "execution_count": null,
   "metadata": {},
   "outputs": [],
   "source": [
    "Q1 = prediction_data['duration'].quantile(0.25)\n",
    "Q3 = prediction_data['duration'].quantile(0.75)\n",
    "IQR = Q3 - Q1"
   ]
  },
  {
   "cell_type": "code",
   "execution_count": null,
   "metadata": {},
   "outputs": [],
   "source": [
    "mask = prediction_data['duration'].between((Q1 - 1.5 * IQR), (Q3 + 1.5 * IQR), inclusive=True)\n",
    "iqr = prediction_data.loc[mask]"
   ]
  },
  {
   "cell_type": "code",
   "execution_count": null,
   "metadata": {},
   "outputs": [],
   "source": [
    "iqr"
   ]
  },
  {
   "cell_type": "code",
   "execution_count": null,
   "metadata": {},
   "outputs": [],
   "source": [
    "prediction_data = iqr.copy()"
   ]
  },
  {
   "cell_type": "code",
   "execution_count": null,
   "metadata": {},
   "outputs": [],
   "source": [
    "# Creating an individual column for hour of the day\n",
    "prediction_data['HOUR'] = prediction_data.start_time.dt.strftime('%-H').astype('int')\n",
    "\n",
    "# Creating an individual column for week of the year\n",
    "prediction_data['WEEK_OF_YEAR'] = prediction_data.start_time.dt.strftime('%W').astype('int')\n",
    "\n",
    "# Creating an individual column for day of the week\n",
    "prediction_data['DAY_OF_WEEK'] = prediction_data.start_time.dt.strftime('%w').astype('int')\n",
    "\n",
    "seasons = []\n",
    "for month in prediction_data.start_time.dt.strftime('%m').astype('int'):\n",
    "    if month in [1, 2, 12]:\n",
    "        seasons.append('WINTER')\n",
    "    elif month in [3, 4, 5]:\n",
    "        seasons.append('SPRING')\n",
    "    elif month in [6, 7, 8]:\n",
    "        seasons.append('SUMMER')\n",
    "    elif month in [9, 10, 11]:\n",
    "        seasons.append('FALL')\n",
    "prediction_data['season'] = seasons"
   ]
  },
  {
   "cell_type": "code",
   "execution_count": null,
   "metadata": {},
   "outputs": [],
   "source": [
    "# Creating fig and subplots\n",
    "#fig, axes = plt.subplots(2, 5, figsize=(20, 7), sharex=True, sharey=True, dpi=500)\n",
    "\n",
    "# Plotting the relationship between the actual count and its lagged values\n",
    "#for i, ax in enumerate(axes.flatten()[:10]):\n",
    "#    pd.plotting.lag_plot(raw_data.sort_values(by=['start_time'])['duration'], lag=i + 1, ax=ax)\n",
    "#    ax.set_title('Lag ' + str(i + 1))\n",
    "#plt.tight_layout();"
   ]
  },
  {
   "cell_type": "code",
   "execution_count": null,
   "metadata": {},
   "outputs": [],
   "source": [
    "sns.boxplot(x='weekend', y='duration', data=prediction_data)"
   ]
  },
  {
   "cell_type": "code",
   "execution_count": null,
   "metadata": {
    "scrolled": false
   },
   "outputs": [],
   "source": [
    "sns.boxplot(x='is_station', y='duration', data=prediction_data)"
   ]
  },
  {
   "cell_type": "code",
   "execution_count": null,
   "metadata": {
    "scrolled": false
   },
   "outputs": [],
   "source": [
    "sns.boxplot(x='season', y='duration', data=prediction_data)"
   ]
  },
  {
   "cell_type": "code",
   "execution_count": null,
   "metadata": {
    "scrolled": false
   },
   "outputs": [],
   "source": [
    "sns.boxplot(x='HOUR', y='duration', data=prediction_data)"
   ]
  },
  {
   "cell_type": "code",
   "execution_count": null,
   "metadata": {},
   "outputs": [],
   "source": [
    "sns.boxplot(x='WEEK_OF_YEAR', y='duration', data=prediction_data)"
   ]
  },
  {
   "cell_type": "code",
   "execution_count": null,
   "metadata": {},
   "outputs": [],
   "source": [
    "sns.boxplot(x='DAY_OF_WEEK', y='duration', data=prediction_data)"
   ]
  },
  {
   "cell_type": "code",
   "execution_count": null,
   "metadata": {},
   "outputs": [],
   "source": [
    "# Applying sine,cosine transformation on column hour to retain the cyclical nature\n",
    "prediction_data['HOUR_SIN'] = np.sin(prediction_data.HOUR * (2. * np.pi / 24))\n",
    "prediction_data['HOUR_COS'] = np.cos(prediction_data.HOUR * (2. * np.pi / 24))"
   ]
  },
  {
   "cell_type": "code",
   "execution_count": null,
   "metadata": {},
   "outputs": [],
   "source": [
    "# Applying sine,cosine transformation on column WEEK_OF_YEAR to retain the cyclical nature\n",
    "prediction_data['WEEK_OF_YEAR_SIN'] = np.sin(prediction_data.WEEK_OF_YEAR * (2. * np.pi / 52))\n",
    "prediction_data['WEEK_OF_YEAR_COS'] = np.cos(prediction_data.WEEK_OF_YEAR * (2. * np.pi / 52))"
   ]
  },
  {
   "cell_type": "code",
   "execution_count": null,
   "metadata": {},
   "outputs": [],
   "source": [
    "# Applying sine,cosine transformation on column DAY_OF_WEEK to retain the cyclical nature\n",
    "prediction_data['DAY_OF_WEEK_SIN'] = np.sin(prediction_data.DAY_OF_WEEK * (2. * np.pi / 7))\n",
    "prediction_data['DAY_OF_WEEK_COS'] = np.cos(prediction_data.DAY_OF_WEEK * (2. * np.pi / 7))"
   ]
  },
  {
   "cell_type": "code",
   "execution_count": null,
   "metadata": {},
   "outputs": [],
   "source": [
    "seasonal_dummies = pd.get_dummies(prediction_data['season'])"
   ]
  },
  {
   "cell_type": "code",
   "execution_count": null,
   "metadata": {},
   "outputs": [],
   "source": [
    "# Dropping individual time columns since their transformation will be used\n",
    "prediction_data.drop(columns=['WEEK_OF_YEAR', 'DAY_OF_WEEK', 'HOUR','start_time','season','start_position_name'], axis=1, inplace=True)"
   ]
  },
  {
   "cell_type": "code",
   "execution_count": null,
   "metadata": {},
   "outputs": [],
   "source": [
    "prediction_data = pd.concat([prediction_data, seasonal_dummies], axis=1)"
   ]
  },
  {
   "cell_type": "code",
   "execution_count": null,
   "metadata": {},
   "outputs": [],
   "source": [
    "X = prediction_data.drop(columns=['duration'])\n",
    "y = prediction_data['duration'].values.reshape(-1,1)"
   ]
  },
  {
   "cell_type": "code",
   "execution_count": null,
   "metadata": {},
   "outputs": [],
   "source": [
    "X_train, X_test, y_train, y_test = train_test_split(X, y, random_state=0)"
   ]
  },
  {
   "cell_type": "code",
   "execution_count": null,
   "metadata": {},
   "outputs": [],
   "source": [
    "target_transformer = StandardScaler().fit(y_train)\n",
    "y_train = target_transformer.transform(y_train)"
   ]
  },
  {
   "cell_type": "code",
   "execution_count": null,
   "metadata": {},
   "outputs": [],
   "source": [
    "model = LassoLarsCV(cv=5, normalize=False).fit(X_train, y_train)"
   ]
  },
  {
   "cell_type": "code",
   "execution_count": null,
   "metadata": {},
   "outputs": [],
   "source": [
    "y_pred = target_transformer.inverse_transform(model.predict(X_train).reshape(-1, 1))"
   ]
  },
  {
   "cell_type": "code",
   "execution_count": null,
   "metadata": {},
   "outputs": [],
   "source": [
    "reg_residuals = target_transformer.inverse_transform(y_train.reshape(-1, 1)) - y_pred"
   ]
  },
  {
   "cell_type": "code",
   "execution_count": null,
   "metadata": {},
   "outputs": [],
   "source": [
    "# Creating fit and subplots\n",
    "fix, axs = plt.subplots(2, 1, figsize=(17, 15), sharex=True)\n",
    "\n",
    "# Plotting actuals and fit of linear and random forest regression\n",
    "pd.DataFrame({'ACTUALS': target_transformer.inverse_transform(y_train.reshape(-1, 1)).reshape(-1),\n",
    "              'LinearRegression': y_pred.reshape(-1)}).plot(ax=axs[0])\n",
    "\n",
    "\n",
    "# Plotting residuals of linear and random forest regression\n",
    "pd.DataFrame({'LinearRegression': reg_residuals.reshape(-1)}).plot(ax=axs[1])\n",
    "\n",
    "axs[1].set_title('LinearRegression Residuals');"
   ]
  },
  {
   "cell_type": "code",
   "execution_count": null,
   "metadata": {
    "scrolled": true
   },
   "outputs": [],
   "source": [
    "mean_absolute_error(target_transformer.inverse_transform(y_train), y_pred)"
   ]
  },
  {
   "cell_type": "code",
   "execution_count": null,
   "metadata": {},
   "outputs": [],
   "source": [
    "rf_mode_opt = RandomForestRegressor(n_jobs=-1, \n",
    "                                 random_state=123,\n",
    "                                 n_estimators=800,\n",
    "                                 min_samples_split=10,\n",
    "                                 min_samples_leaf=4,\n",
    "                                 max_features='sqrt',\n",
    "                                 max_depth=80,\n",
    "                                 bootstrap=True)"
   ]
  },
  {
   "cell_type": "code",
   "execution_count": null,
   "metadata": {},
   "outputs": [],
   "source": [
    "rf_mode_opt.fit(X_train, y_train)"
   ]
  },
  {
   "cell_type": "code",
   "execution_count": null,
   "metadata": {},
   "outputs": [],
   "source": [
    "rf_model = RandomForestRegressor(n_jobs=-1, \n",
    "                                 random_state=123)"
   ]
  },
  {
   "cell_type": "code",
   "execution_count": null,
   "metadata": {},
   "outputs": [],
   "source": [
    "rf_model.fit(X_train, y_train)"
   ]
  },
  {
   "cell_type": "code",
   "execution_count": null,
   "metadata": {},
   "outputs": [],
   "source": [
    "# Calculating the fit of the model\n",
    "rf_predictions = target_transformer.inverse_transform(rf_model.predict(X_train).reshape(-1, 1))\n",
    "\n",
    "\n",
    "\n",
    "# Calculating the residuals\n",
    "rf_residuals = target_transformer.inverse_transform(y_train.reshape(-1, 1)) - rf_predictions"
   ]
  },
  {
   "cell_type": "code",
   "execution_count": null,
   "metadata": {},
   "outputs": [],
   "source": [
    "# Creating fit and subplots\n",
    "fix, axs = plt.subplots(2, 1, figsize=(17, 15), sharex=True)\n",
    "\n",
    "# Plotting actuals and fit of linear and random forest regression\n",
    "pd.DataFrame({'ACTUALS': target_transformer.inverse_transform(y_train.reshape(-1, 1)).reshape(-1),\n",
    "              'RandomForestRegression': rf_predictions.reshape(-1)}).plot(ax=axs[0])\n",
    "\n",
    "\n",
    "# Plotting residuals of linear and random forest regression\n",
    "pd.DataFrame({'RandomForestRegression': rf_residuals.reshape(-1)}).plot(ax=axs[1])\n",
    "\n",
    "axs[1].set_title('RandomForest Residuals');"
   ]
  },
  {
   "cell_type": "code",
   "execution_count": null,
   "metadata": {},
   "outputs": [],
   "source": [
    "mean_absolute_error(target_transformer.inverse_transform(y_train.reshape(-1, 1)), rf_predictions)"
   ]
  },
  {
   "cell_type": "code",
   "execution_count": null,
   "metadata": {
    "scrolled": false
   },
   "outputs": [],
   "source": [
    "# Creating fig\n",
    "fig = plt.figure(figsize=(20, 10))\n",
    "\n",
    "# Deriving the feature importances of the optimized and default model\n",
    "default_importances = list(rf_model.feature_importances_)\n",
    "optimized_importances = list(rf_mode_opt.feature_importances_)\n",
    "\n",
    "# Creating an array with range of number of variables\n",
    "x_values = np.arange(len(default_importances))\n",
    "\n",
    "# Creating bar plots of optimized and default importances\n",
    "plt.bar(x_values, default_importances,orientation='vertical', color='blue', width=.5, align='center', label='Default')\n",
    "plt.bar(x_values + 0.5, optimized_importances, orientation='vertical', color='red', width=.5, align='center', label='Optimized')\n",
    "\n",
    "plt.xticks(x_values + 0.25, list(X.columns), rotation='vertical')\n",
    "\n",
    "plt.ylabel('Importance')\n",
    "plt.xlabel('Variable')\n",
    "plt.title('Variable Importances')\n",
    "\n",
    "plt.legend(loc=1)\n",
    "plt.show();"
   ]
  },
  {
   "cell_type": "code",
   "execution_count": null,
   "metadata": {},
   "outputs": [],
   "source": [
    "#from sklearn.model_selection import RandomizedSearchCV\n",
    "# Number of trees in random forest\n",
    "#n_estimators = [int(x) for x in np.linspace(start = 200, stop = 1000, num = 5)]\n",
    "# Number of features to consider at every split\n",
    "#max_features = ['auto', 'sqrt']\n",
    "# Maximum number of levels in tree\n",
    "#max_depth = [int(x) for x in np.linspace(20, 90, num = 8)]\n",
    "#max_depth.append(None)\n",
    "# Minimum number of samples required to split a node\n",
    "#min_samples_split = [2, 5, 10]\n",
    "# Minimum number of samples required at each leaf node\n",
    "#min_samples_leaf = [1, 2, 4]\n",
    "# Method of selecting samples for training each tree\n",
    "#bootstrap = [True, False]\n",
    "# Create the random grid\n",
    "#random_grid = {'n_estimators': n_estimators,\n",
    "#               'max_features': max_features,\n",
    "#               'max_depth': max_depth,\n",
    "#               'min_samples_split': min_samples_split,\n",
    "#               'min_samples_leaf': min_samples_leaf,\n",
    "#               'bootstrap': bootstrap}\n",
    "#print(random_grid)"
   ]
  },
  {
   "cell_type": "code",
   "execution_count": null,
   "metadata": {},
   "outputs": [],
   "source": [
    "# Use the random grid to search for best hyperparameters\n",
    "# First create the base model to tune\n",
    "#rf = RandomForestRegressor()\n",
    "# Random search of parameters, using 3 fold cross validation, \n",
    "# search across 100 different combinations, and use all available cores\n",
    "#rf_random = RandomizedSearchCV(estimator = rf, param_distributions = random_grid, n_iter = 100, cv = 3, verbose=1, random_state=42, n_jobs = -1)\n",
    "# Fit the random search model\n",
    "#rf_random.fit(X_train, y_train)"
   ]
  },
  {
   "cell_type": "code",
   "execution_count": null,
   "metadata": {},
   "outputs": [],
   "source": [
    "#rf_random.best_params_"
   ]
  }
 ],
 "metadata": {
  "kernelspec": {
   "display_name": "Python 3",
   "language": "python",
   "name": "python3"
  },
  "language_info": {
   "codemirror_mode": {
    "name": "ipython",
    "version": 3
   },
   "file_extension": ".py",
   "mimetype": "text/x-python",
   "name": "python",
   "nbconvert_exporter": "python",
   "pygments_lexer": "ipython3",
   "version": "3.6.9"
  }
 },
 "nbformat": 4,
 "nbformat_minor": 1
}
